{
  "nbformat": 4,
  "nbformat_minor": 0,
  "metadata": {
    "colab": {
      "provenance": []
    },
    "kernelspec": {
      "name": "python3",
      "display_name": "Python 3"
    },
    "language_info": {
      "name": "python"
    }
  },
  "cells": [
    {
      "cell_type": "markdown",
      "source": [
        "# **Github and Google Colab Implementation of Character Recognition TMINST**"
      ],
      "metadata": {
        "id": "wGCdKPpPwhqB"
      }
    },
    {
      "cell_type": "markdown",
      "source": [
        "## **Importing All necessary libraries**"
      ],
      "metadata": {
        "id": "6Mr0mG26eKEf"
      }
    },
    {
      "cell_type": "code",
      "execution_count": 1,
      "metadata": {
        "id": "k8Gj6Da5BoJo"
      },
      "outputs": [],
      "source": [
        "#import pytorch\n",
        "import torch\n",
        "\n",
        "# torch functionalities used for building our CNN Model\n",
        "import torch.optim as optim\n",
        "import torch.nn as nn\n",
        "import torch.nn.functional as F\n",
        "\n",
        "import torch.utils.data as data_utils"
      ]
    },
    {
      "cell_type": "code",
      "source": [
        "import pandas as pd\n",
        "import numpy as np\n",
        "\n",
        "import matplotlib.pyplot as plt\n",
        "\n",
        "from sklearn.model_selection import train_test_split"
      ],
      "metadata": {
        "id": "7f_PRJ-LHQ1Y"
      },
      "execution_count": 2,
      "outputs": []
    },
    {
      "cell_type": "markdown",
      "source": [
        "## **How to train your neural net faster?**\n",
        "\n",
        "We saw that the computationally intensive part of neural network is made up of multiple matrix multiplications. So how can we make it faster?\n",
        "\n",
        "Since we will be building a CNN model, a GPU is required to speed up the training process. Before starting with the implementation, we verify the presence of an active GPU and set the device accordingly.\n",
        "\n"
      ],
      "metadata": {
        "id": "ACFD-b30ecDn"
      }
    },
    {
      "cell_type": "code",
      "source": [
        "if torch.cuda.is_available():\n",
        "    device = 'cuda'\n",
        "else:\n",
        "    device = 'cpu'"
      ],
      "metadata": {
        "id": "Fwk2_51qHTnY"
      },
      "execution_count": 3,
      "outputs": []
    },
    {
      "cell_type": "code",
      "source": [
        "import pandas as pd\n",
        "#Reading data into pandas dataframe.\n",
        "#data_path = \"https://raw.githubusercontent.com/Payal2000/TMINST/main/TMNIST_Data.csv\"\n",
        "data_path = \"https://raw.githubusercontent.com/Payal2000/TMINST/main/TMNIST_Data.csv\"\n",
        "data = pd.read_csv(data_path)\n"
      ],
      "metadata": {
        "id": "pDY3PyU_MhO9"
      },
      "execution_count": 5,
      "outputs": []
    },
    {
      "cell_type": "markdown",
      "source": [
        "## **Performing EDA**"
      ],
      "metadata": {
        "id": "baTqbujten8c"
      }
    },
    {
      "cell_type": "code",
      "source": [
        "#A view of dataset.\n",
        "data.head()"
      ],
      "metadata": {
        "colab": {
          "base_uri": "https://localhost:8080/",
          "height": 236
        },
        "id": "y4lSakkGM8Gy",
        "outputId": "d6239e29-aab3-4907-a768-8b6d8c6f0f6a"
      },
      "execution_count": 6,
      "outputs": [
        {
          "output_type": "execute_result",
          "data": {
            "text/plain": [
              "                        names  labels  1  2  3  4  5  6  7  8  ...  775  776  \\\n",
              "0          GrandHotel-Regular       2  0  0  0  0  0  0  0  0  ...    0    0   \n",
              "1  EncodeSansCondensed-Medium       8  0  0  0  0  0  0  0  0  ...    0    0   \n",
              "2              Varela-Regular       4  0  0  0  0  0  0  0  0  ...    0    0   \n",
              "3              ArefRuqaa-Bold       3  0  0  0  0  0  0  0  0  ...    0    0   \n",
              "4           KulimPark-Regular       1  0  0  0  0  0  0  0  0  ...    0    0   \n",
              "\n",
              "   777  778  779  780  781  782  783  784  \n",
              "0    0    0    0    0    0    0    0    0  \n",
              "1    0    0    0    0    0    0    0    0  \n",
              "2    0    0    0    0    0    0    0    0  \n",
              "3    0    0    0    0    0    0    0    0  \n",
              "4    0    0    0    0    0    0    0    0  \n",
              "\n",
              "[5 rows x 786 columns]"
            ],
            "text/html": [
              "\n",
              "  <div id=\"df-b8f15484-31fe-4873-b6a1-c24244ae5139\" class=\"colab-df-container\">\n",
              "    <div>\n",
              "<style scoped>\n",
              "    .dataframe tbody tr th:only-of-type {\n",
              "        vertical-align: middle;\n",
              "    }\n",
              "\n",
              "    .dataframe tbody tr th {\n",
              "        vertical-align: top;\n",
              "    }\n",
              "\n",
              "    .dataframe thead th {\n",
              "        text-align: right;\n",
              "    }\n",
              "</style>\n",
              "<table border=\"1\" class=\"dataframe\">\n",
              "  <thead>\n",
              "    <tr style=\"text-align: right;\">\n",
              "      <th></th>\n",
              "      <th>names</th>\n",
              "      <th>labels</th>\n",
              "      <th>1</th>\n",
              "      <th>2</th>\n",
              "      <th>3</th>\n",
              "      <th>4</th>\n",
              "      <th>5</th>\n",
              "      <th>6</th>\n",
              "      <th>7</th>\n",
              "      <th>8</th>\n",
              "      <th>...</th>\n",
              "      <th>775</th>\n",
              "      <th>776</th>\n",
              "      <th>777</th>\n",
              "      <th>778</th>\n",
              "      <th>779</th>\n",
              "      <th>780</th>\n",
              "      <th>781</th>\n",
              "      <th>782</th>\n",
              "      <th>783</th>\n",
              "      <th>784</th>\n",
              "    </tr>\n",
              "  </thead>\n",
              "  <tbody>\n",
              "    <tr>\n",
              "      <th>0</th>\n",
              "      <td>GrandHotel-Regular</td>\n",
              "      <td>2</td>\n",
              "      <td>0</td>\n",
              "      <td>0</td>\n",
              "      <td>0</td>\n",
              "      <td>0</td>\n",
              "      <td>0</td>\n",
              "      <td>0</td>\n",
              "      <td>0</td>\n",
              "      <td>0</td>\n",
              "      <td>...</td>\n",
              "      <td>0</td>\n",
              "      <td>0</td>\n",
              "      <td>0</td>\n",
              "      <td>0</td>\n",
              "      <td>0</td>\n",
              "      <td>0</td>\n",
              "      <td>0</td>\n",
              "      <td>0</td>\n",
              "      <td>0</td>\n",
              "      <td>0</td>\n",
              "    </tr>\n",
              "    <tr>\n",
              "      <th>1</th>\n",
              "      <td>EncodeSansCondensed-Medium</td>\n",
              "      <td>8</td>\n",
              "      <td>0</td>\n",
              "      <td>0</td>\n",
              "      <td>0</td>\n",
              "      <td>0</td>\n",
              "      <td>0</td>\n",
              "      <td>0</td>\n",
              "      <td>0</td>\n",
              "      <td>0</td>\n",
              "      <td>...</td>\n",
              "      <td>0</td>\n",
              "      <td>0</td>\n",
              "      <td>0</td>\n",
              "      <td>0</td>\n",
              "      <td>0</td>\n",
              "      <td>0</td>\n",
              "      <td>0</td>\n",
              "      <td>0</td>\n",
              "      <td>0</td>\n",
              "      <td>0</td>\n",
              "    </tr>\n",
              "    <tr>\n",
              "      <th>2</th>\n",
              "      <td>Varela-Regular</td>\n",
              "      <td>4</td>\n",
              "      <td>0</td>\n",
              "      <td>0</td>\n",
              "      <td>0</td>\n",
              "      <td>0</td>\n",
              "      <td>0</td>\n",
              "      <td>0</td>\n",
              "      <td>0</td>\n",
              "      <td>0</td>\n",
              "      <td>...</td>\n",
              "      <td>0</td>\n",
              "      <td>0</td>\n",
              "      <td>0</td>\n",
              "      <td>0</td>\n",
              "      <td>0</td>\n",
              "      <td>0</td>\n",
              "      <td>0</td>\n",
              "      <td>0</td>\n",
              "      <td>0</td>\n",
              "      <td>0</td>\n",
              "    </tr>\n",
              "    <tr>\n",
              "      <th>3</th>\n",
              "      <td>ArefRuqaa-Bold</td>\n",
              "      <td>3</td>\n",
              "      <td>0</td>\n",
              "      <td>0</td>\n",
              "      <td>0</td>\n",
              "      <td>0</td>\n",
              "      <td>0</td>\n",
              "      <td>0</td>\n",
              "      <td>0</td>\n",
              "      <td>0</td>\n",
              "      <td>...</td>\n",
              "      <td>0</td>\n",
              "      <td>0</td>\n",
              "      <td>0</td>\n",
              "      <td>0</td>\n",
              "      <td>0</td>\n",
              "      <td>0</td>\n",
              "      <td>0</td>\n",
              "      <td>0</td>\n",
              "      <td>0</td>\n",
              "      <td>0</td>\n",
              "    </tr>\n",
              "    <tr>\n",
              "      <th>4</th>\n",
              "      <td>KulimPark-Regular</td>\n",
              "      <td>1</td>\n",
              "      <td>0</td>\n",
              "      <td>0</td>\n",
              "      <td>0</td>\n",
              "      <td>0</td>\n",
              "      <td>0</td>\n",
              "      <td>0</td>\n",
              "      <td>0</td>\n",
              "      <td>0</td>\n",
              "      <td>...</td>\n",
              "      <td>0</td>\n",
              "      <td>0</td>\n",
              "      <td>0</td>\n",
              "      <td>0</td>\n",
              "      <td>0</td>\n",
              "      <td>0</td>\n",
              "      <td>0</td>\n",
              "      <td>0</td>\n",
              "      <td>0</td>\n",
              "      <td>0</td>\n",
              "    </tr>\n",
              "  </tbody>\n",
              "</table>\n",
              "<p>5 rows × 786 columns</p>\n",
              "</div>\n",
              "    <div class=\"colab-df-buttons\">\n",
              "\n",
              "  <div class=\"colab-df-container\">\n",
              "    <button class=\"colab-df-convert\" onclick=\"convertToInteractive('df-b8f15484-31fe-4873-b6a1-c24244ae5139')\"\n",
              "            title=\"Convert this dataframe to an interactive table.\"\n",
              "            style=\"display:none;\">\n",
              "\n",
              "  <svg xmlns=\"http://www.w3.org/2000/svg\" height=\"24px\" viewBox=\"0 -960 960 960\">\n",
              "    <path d=\"M120-120v-720h720v720H120Zm60-500h600v-160H180v160Zm220 220h160v-160H400v160Zm0 220h160v-160H400v160ZM180-400h160v-160H180v160Zm440 0h160v-160H620v160ZM180-180h160v-160H180v160Zm440 0h160v-160H620v160Z\"/>\n",
              "  </svg>\n",
              "    </button>\n",
              "\n",
              "  <style>\n",
              "    .colab-df-container {\n",
              "      display:flex;\n",
              "      gap: 12px;\n",
              "    }\n",
              "\n",
              "    .colab-df-convert {\n",
              "      background-color: #E8F0FE;\n",
              "      border: none;\n",
              "      border-radius: 50%;\n",
              "      cursor: pointer;\n",
              "      display: none;\n",
              "      fill: #1967D2;\n",
              "      height: 32px;\n",
              "      padding: 0 0 0 0;\n",
              "      width: 32px;\n",
              "    }\n",
              "\n",
              "    .colab-df-convert:hover {\n",
              "      background-color: #E2EBFA;\n",
              "      box-shadow: 0px 1px 2px rgba(60, 64, 67, 0.3), 0px 1px 3px 1px rgba(60, 64, 67, 0.15);\n",
              "      fill: #174EA6;\n",
              "    }\n",
              "\n",
              "    .colab-df-buttons div {\n",
              "      margin-bottom: 4px;\n",
              "    }\n",
              "\n",
              "    [theme=dark] .colab-df-convert {\n",
              "      background-color: #3B4455;\n",
              "      fill: #D2E3FC;\n",
              "    }\n",
              "\n",
              "    [theme=dark] .colab-df-convert:hover {\n",
              "      background-color: #434B5C;\n",
              "      box-shadow: 0px 1px 3px 1px rgba(0, 0, 0, 0.15);\n",
              "      filter: drop-shadow(0px 1px 2px rgba(0, 0, 0, 0.3));\n",
              "      fill: #FFFFFF;\n",
              "    }\n",
              "  </style>\n",
              "\n",
              "    <script>\n",
              "      const buttonEl =\n",
              "        document.querySelector('#df-b8f15484-31fe-4873-b6a1-c24244ae5139 button.colab-df-convert');\n",
              "      buttonEl.style.display =\n",
              "        google.colab.kernel.accessAllowed ? 'block' : 'none';\n",
              "\n",
              "      async function convertToInteractive(key) {\n",
              "        const element = document.querySelector('#df-b8f15484-31fe-4873-b6a1-c24244ae5139');\n",
              "        const dataTable =\n",
              "          await google.colab.kernel.invokeFunction('convertToInteractive',\n",
              "                                                    [key], {});\n",
              "        if (!dataTable) return;\n",
              "\n",
              "        const docLinkHtml = 'Like what you see? Visit the ' +\n",
              "          '<a target=\"_blank\" href=https://colab.research.google.com/notebooks/data_table.ipynb>data table notebook</a>'\n",
              "          + ' to learn more about interactive tables.';\n",
              "        element.innerHTML = '';\n",
              "        dataTable['output_type'] = 'display_data';\n",
              "        await google.colab.output.renderOutput(dataTable, element);\n",
              "        const docLink = document.createElement('div');\n",
              "        docLink.innerHTML = docLinkHtml;\n",
              "        element.appendChild(docLink);\n",
              "      }\n",
              "    </script>\n",
              "  </div>\n",
              "\n",
              "\n",
              "<div id=\"df-d29c0751-fbcc-4dae-a08c-2515e8aa2488\">\n",
              "  <button class=\"colab-df-quickchart\" onclick=\"quickchart('df-d29c0751-fbcc-4dae-a08c-2515e8aa2488')\"\n",
              "            title=\"Suggest charts\"\n",
              "            style=\"display:none;\">\n",
              "\n",
              "<svg xmlns=\"http://www.w3.org/2000/svg\" height=\"24px\"viewBox=\"0 0 24 24\"\n",
              "     width=\"24px\">\n",
              "    <g>\n",
              "        <path d=\"M19 3H5c-1.1 0-2 .9-2 2v14c0 1.1.9 2 2 2h14c1.1 0 2-.9 2-2V5c0-1.1-.9-2-2-2zM9 17H7v-7h2v7zm4 0h-2V7h2v10zm4 0h-2v-4h2v4z\"/>\n",
              "    </g>\n",
              "</svg>\n",
              "  </button>\n",
              "\n",
              "<style>\n",
              "  .colab-df-quickchart {\n",
              "      --bg-color: #E8F0FE;\n",
              "      --fill-color: #1967D2;\n",
              "      --hover-bg-color: #E2EBFA;\n",
              "      --hover-fill-color: #174EA6;\n",
              "      --disabled-fill-color: #AAA;\n",
              "      --disabled-bg-color: #DDD;\n",
              "  }\n",
              "\n",
              "  [theme=dark] .colab-df-quickchart {\n",
              "      --bg-color: #3B4455;\n",
              "      --fill-color: #D2E3FC;\n",
              "      --hover-bg-color: #434B5C;\n",
              "      --hover-fill-color: #FFFFFF;\n",
              "      --disabled-bg-color: #3B4455;\n",
              "      --disabled-fill-color: #666;\n",
              "  }\n",
              "\n",
              "  .colab-df-quickchart {\n",
              "    background-color: var(--bg-color);\n",
              "    border: none;\n",
              "    border-radius: 50%;\n",
              "    cursor: pointer;\n",
              "    display: none;\n",
              "    fill: var(--fill-color);\n",
              "    height: 32px;\n",
              "    padding: 0;\n",
              "    width: 32px;\n",
              "  }\n",
              "\n",
              "  .colab-df-quickchart:hover {\n",
              "    background-color: var(--hover-bg-color);\n",
              "    box-shadow: 0 1px 2px rgba(60, 64, 67, 0.3), 0 1px 3px 1px rgba(60, 64, 67, 0.15);\n",
              "    fill: var(--button-hover-fill-color);\n",
              "  }\n",
              "\n",
              "  .colab-df-quickchart-complete:disabled,\n",
              "  .colab-df-quickchart-complete:disabled:hover {\n",
              "    background-color: var(--disabled-bg-color);\n",
              "    fill: var(--disabled-fill-color);\n",
              "    box-shadow: none;\n",
              "  }\n",
              "\n",
              "  .colab-df-spinner {\n",
              "    border: 2px solid var(--fill-color);\n",
              "    border-color: transparent;\n",
              "    border-bottom-color: var(--fill-color);\n",
              "    animation:\n",
              "      spin 1s steps(1) infinite;\n",
              "  }\n",
              "\n",
              "  @keyframes spin {\n",
              "    0% {\n",
              "      border-color: transparent;\n",
              "      border-bottom-color: var(--fill-color);\n",
              "      border-left-color: var(--fill-color);\n",
              "    }\n",
              "    20% {\n",
              "      border-color: transparent;\n",
              "      border-left-color: var(--fill-color);\n",
              "      border-top-color: var(--fill-color);\n",
              "    }\n",
              "    30% {\n",
              "      border-color: transparent;\n",
              "      border-left-color: var(--fill-color);\n",
              "      border-top-color: var(--fill-color);\n",
              "      border-right-color: var(--fill-color);\n",
              "    }\n",
              "    40% {\n",
              "      border-color: transparent;\n",
              "      border-right-color: var(--fill-color);\n",
              "      border-top-color: var(--fill-color);\n",
              "    }\n",
              "    60% {\n",
              "      border-color: transparent;\n",
              "      border-right-color: var(--fill-color);\n",
              "    }\n",
              "    80% {\n",
              "      border-color: transparent;\n",
              "      border-right-color: var(--fill-color);\n",
              "      border-bottom-color: var(--fill-color);\n",
              "    }\n",
              "    90% {\n",
              "      border-color: transparent;\n",
              "      border-bottom-color: var(--fill-color);\n",
              "    }\n",
              "  }\n",
              "</style>\n",
              "\n",
              "  <script>\n",
              "    async function quickchart(key) {\n",
              "      const quickchartButtonEl =\n",
              "        document.querySelector('#' + key + ' button');\n",
              "      quickchartButtonEl.disabled = true;  // To prevent multiple clicks.\n",
              "      quickchartButtonEl.classList.add('colab-df-spinner');\n",
              "      try {\n",
              "        const charts = await google.colab.kernel.invokeFunction(\n",
              "            'suggestCharts', [key], {});\n",
              "      } catch (error) {\n",
              "        console.error('Error during call to suggestCharts:', error);\n",
              "      }\n",
              "      quickchartButtonEl.classList.remove('colab-df-spinner');\n",
              "      quickchartButtonEl.classList.add('colab-df-quickchart-complete');\n",
              "    }\n",
              "    (() => {\n",
              "      let quickchartButtonEl =\n",
              "        document.querySelector('#df-d29c0751-fbcc-4dae-a08c-2515e8aa2488 button');\n",
              "      quickchartButtonEl.style.display =\n",
              "        google.colab.kernel.accessAllowed ? 'block' : 'none';\n",
              "    })();\n",
              "  </script>\n",
              "</div>\n",
              "\n",
              "    </div>\n",
              "  </div>\n"
            ]
          },
          "metadata": {},
          "execution_count": 6
        }
      ]
    },
    {
      "cell_type": "code",
      "source": [
        "#Determining Shape and Number of Sample in the Dataset\n",
        "print(f\"The Shape of the Dataframe is: {data.shape}\") #Number of Samples, Number of Pixels(Features)\n",
        "print(f\"Number of Samples: {data.shape[0]}\")"
      ],
      "metadata": {
        "colab": {
          "base_uri": "https://localhost:8080/"
        },
        "id": "uqiSaHuJM-Wn",
        "outputId": "57649882-95c6-4be2-b829-59f9b3046c7d"
      },
      "execution_count": 7,
      "outputs": [
        {
          "output_type": "stream",
          "name": "stdout",
          "text": [
            "The Shape of the Dataframe is: (29900, 786)\n",
            "Number of Samples: 29900\n"
          ]
        }
      ]
    },
    {
      "cell_type": "code",
      "source": [
        "# Number of unique character in the Dataframe\n",
        "print(f\"Number of unique character present in the Dataset: {len(data.labels.unique())}\") #Number of Classes"
      ],
      "metadata": {
        "colab": {
          "base_uri": "https://localhost:8080/"
        },
        "id": "Mu9iuqIENAbA",
        "outputId": "ea5a2a22-357e-4089-9103-b92ad4c5ee1c"
      },
      "execution_count": 8,
      "outputs": [
        {
          "output_type": "stream",
          "name": "stdout",
          "text": [
            "Number of unique character present in the Dataset: 10\n"
          ]
        }
      ]
    },
    {
      "cell_type": "code",
      "source": [
        "# Label distribution\n",
        "data.labels.value_counts()\n"
      ],
      "metadata": {
        "colab": {
          "base_uri": "https://localhost:8080/"
        },
        "id": "bi9wbAAFNCWl",
        "outputId": "9ac07352-25b6-4746-b034-6ea03997cc4b"
      },
      "execution_count": 9,
      "outputs": [
        {
          "output_type": "execute_result",
          "data": {
            "text/plain": [
              "2    2990\n",
              "8    2990\n",
              "4    2990\n",
              "3    2990\n",
              "1    2990\n",
              "6    2990\n",
              "5    2990\n",
              "9    2990\n",
              "7    2990\n",
              "0    2990\n",
              "Name: labels, dtype: int64"
            ]
          },
          "metadata": {},
          "execution_count": 9
        }
      ]
    },
    {
      "cell_type": "markdown",
      "source": [
        "We observe that the labels are equally distributed with 2990 instances of each class. Hence, our dataset is balanced.\n",
        "\n",
        "Now, let us reshape and modify our data so that it can be used as an input for our model. We normalise the data and reshape it into a 4 dimensional array such that it represents images stacked on to each other. We also reshape our labels into a 1 dimensional array."
      ],
      "metadata": {
        "id": "n1ugocOGez6Y"
      }
    },
    {
      "cell_type": "code",
      "source": [
        "#Dropping redundant coloums like names and labels from the training frames and keeping only pixel values\n",
        "X = data.drop(columns = {'names', 'labels'})/255\n",
        "X = X.values.reshape(X.shape[0], 1, 28, 28)\n",
        "y = data[['labels']].values.reshape((-1,))"
      ],
      "metadata": {
        "id": "NweP1ytBNElc"
      },
      "execution_count": 10,
      "outputs": []
    },
    {
      "cell_type": "markdown",
      "source": [
        "Before proceeding, we split our data into training and testing sets using an 80:20 proportion."
      ],
      "metadata": {
        "id": "6hH4XB91e3DK"
      }
    },
    {
      "cell_type": "code",
      "source": [
        "#split data into training and testing sets using the train_test_split\n",
        "X_train, X_test, y_train, y_test = train_test_split(X, y, test_size = 0.2, random_state = 42)"
      ],
      "metadata": {
        "id": "AwxW3eJaNHEP"
      },
      "execution_count": 11,
      "outputs": []
    },
    {
      "cell_type": "markdown",
      "source": [
        "We now convert them to numpy arrays so that they can be further worked with."
      ],
      "metadata": {
        "id": "n7-7Fbf9e6GI"
      }
    },
    {
      "cell_type": "code",
      "source": [
        "# Convert X_train, X_test, y_train, and y_test to PyTorch tensors\n",
        "X_train = torch.from_numpy(X_train)\n",
        "X_test = torch.from_numpy(X_test)\n",
        "y_train = torch.from_numpy(y_train)\n",
        "y_test = torch.from_numpy(y_test)"
      ],
      "metadata": {
        "id": "z8YRokt8NJs5"
      },
      "execution_count": 12,
      "outputs": []
    },
    {
      "cell_type": "markdown",
      "source": [
        "Before proceeding, we split our data into training and testing sets using an 80:20 proportion."
      ],
      "metadata": {
        "id": "V2bdggp_e8q8"
      }
    },
    {
      "cell_type": "code",
      "source": [
        "#printing shape\n",
        "print(X_train.shape, y_train.shape)"
      ],
      "metadata": {
        "colab": {
          "base_uri": "https://localhost:8080/"
        },
        "id": "25jVyMFUNL1L",
        "outputId": "16ebed14-75ba-473d-86b8-ce15093ec744"
      },
      "execution_count": 13,
      "outputs": [
        {
          "output_type": "stream",
          "name": "stdout",
          "text": [
            "torch.Size([23920, 1, 28, 28]) torch.Size([23920])\n"
          ]
        }
      ]
    },
    {
      "cell_type": "markdown",
      "source": [
        "We verify our steps by checking the shape of our newly created torch tensors.\n",
        "\n",
        "Now, let us visualise a sample image from our processed data."
      ],
      "metadata": {
        "id": "czYVvI2efCOk"
      }
    },
    {
      "cell_type": "code",
      "source": [
        "def visualize_image(data):\n",
        "    # Display the image using matplotlib's imshow() function\n",
        "    plt.imshow(data[0], cmap='gray_r')\n",
        "    # Turn off the axis display in the plot\n",
        "    plt.axis(\"off\")\n",
        "    # Show the plot with the displayed image\n",
        "    plt.show()\n",
        "\n",
        "# Call the visualize_image() function with the first image in X_train dataset\n",
        "visualize_image(X_train[0])"
      ],
      "metadata": {
        "colab": {
          "base_uri": "https://localhost:8080/",
          "height": 406
        },
        "id": "okDo_qU7NOM3",
        "outputId": "5467fa41-c058-4d29-dbd2-81035e269052"
      },
      "execution_count": 14,
      "outputs": [
        {
          "output_type": "display_data",
          "data": {
            "text/plain": [
              "<Figure size 640x480 with 1 Axes>"
            ],
            "image/png": "[encoded data removed]"
          },
          "metadata": {}
        }
      ]
    },
    {
      "cell_type": "markdown",
      "source": [
        "## **Create a CNN Model**\n",
        "Create Data Loader Dataloaders are utilized to feed our input data to our model for training, based on different parameters such as the batch size, if they should be suffled while being fed, and so on.\n",
        "\n",
        "Here, we define our tensordatasets for the dataloader and then input our required parameters to prepare the data loaders."
      ],
      "metadata": {
        "id": "dmGUlRhMNQ-P"
      }
    },
    {
      "cell_type": "code",
      "source": [
        "print(type(X_train))\n",
        "print(type(y_train))"
      ],
      "metadata": {
        "colab": {
          "base_uri": "https://localhost:8080/"
        },
        "id": "xezqxhy2NYQ8",
        "outputId": "f37f4655-c82d-4b6e-a3f3-948e26a54025"
      },
      "execution_count": 15,
      "outputs": [
        {
          "output_type": "stream",
          "name": "stdout",
          "text": [
            "<class 'torch.Tensor'>\n",
            "<class 'torch.Tensor'>\n"
          ]
        }
      ]
    },
    {
      "cell_type": "code",
      "source": [
        "# Create a training dataset from X_train and y_train\n",
        "train = data_utils.TensorDataset(X_train, y_train)\n",
        "# Create a testing dataset from X_test and y_test\n",
        "test = data_utils.TensorDataset(X_test, y_test)"
      ],
      "metadata": {
        "id": "tebM3b0vNaTd"
      },
      "execution_count": 16,
      "outputs": []
    },
    {
      "cell_type": "markdown",
      "source": [
        "Once you have created your TensorDataset objects, you can pass them to data loaders in PyTorch to efficiently load and preprocess your data during model training or testing. Data loaders allow you to iterate over your dataset in batches, shuffle the data, and apply other data augmentation techniques as needed"
      ],
      "metadata": {
        "id": "5UqsEyvjNcLk"
      }
    },
    {
      "cell_type": "code",
      "source": [
        "# Create a training data loader from the train dataset\n",
        "# with a batch size of 128 and shuffling the data\n",
        "train_loader = data_utils.DataLoader(train, batch_size=128, shuffle=True)\n",
        "\n",
        "# Create a testing data loader from the test dataset\n",
        "# with a batch size of 128 and shuffling the data\n",
        "test_loader = data_utils.DataLoader(test, batch_size=128, shuffle=True)"
      ],
      "metadata": {
        "id": "bCMVz02GNc8G"
      },
      "execution_count": 17,
      "outputs": []
    },
    {
      "cell_type": "markdown",
      "source": [
        "To verify our data loaders, we print the input size of an iteration of training."
      ],
      "metadata": {
        "id": "hxf15XJXNg2X"
      }
    },
    {
      "cell_type": "code",
      "source": [
        "#printing input size of an iteration of training\n",
        "for images, labels in train_loader:\n",
        "    print(images.shape, labels.shape)\n",
        "\n",
        "data_iter = iter(train_loader)\n",
        "images, labels = next(data_iter)\n",
        "print(images.shape, labels.shape)"
      ],
      "metadata": {
        "colab": {
          "base_uri": "https://localhost:8080/"
        },
        "id": "t8gaxiV-Ni0J",
        "outputId": "08ff9f99-51c9-42ce-8569-0ae4954b7bde"
      },
      "execution_count": 18,
      "outputs": [
        {
          "output_type": "stream",
          "name": "stdout",
          "text": [
            "torch.Size([128, 1, 28, 28]) torch.Size([128])\n",
            "torch.Size([128, 1, 28, 28]) torch.Size([128])\n",
            "torch.Size([128, 1, 28, 28]) torch.Size([128])\n",
            "torch.Size([128, 1, 28, 28]) torch.Size([128])\n",
            "torch.Size([128, 1, 28, 28]) torch.Size([128])\n",
            "torch.Size([128, 1, 28, 28]) torch.Size([128])\n",
            "torch.Size([128, 1, 28, 28]) torch.Size([128])\n",
            "torch.Size([128, 1, 28, 28]) torch.Size([128])\n",
            "torch.Size([128, 1, 28, 28]) torch.Size([128])\n",
            "torch.Size([128, 1, 28, 28]) torch.Size([128])\n",
            "torch.Size([128, 1, 28, 28]) torch.Size([128])\n",
            "torch.Size([128, 1, 28, 28]) torch.Size([128])\n",
            "torch.Size([128, 1, 28, 28]) torch.Size([128])\n",
            "torch.Size([128, 1, 28, 28]) torch.Size([128])\n",
            "torch.Size([128, 1, 28, 28]) torch.Size([128])\n",
            "torch.Size([128, 1, 28, 28]) torch.Size([128])\n",
            "torch.Size([128, 1, 28, 28]) torch.Size([128])\n",
            "torch.Size([128, 1, 28, 28]) torch.Size([128])\n",
            "torch.Size([128, 1, 28, 28]) torch.Size([128])\n",
            "torch.Size([128, 1, 28, 28]) torch.Size([128])\n",
            "torch.Size([128, 1, 28, 28]) torch.Size([128])\n",
            "torch.Size([128, 1, 28, 28]) torch.Size([128])\n",
            "torch.Size([128, 1, 28, 28]) torch.Size([128])\n",
            "torch.Size([128, 1, 28, 28]) torch.Size([128])\n",
            "torch.Size([128, 1, 28, 28]) torch.Size([128])\n",
            "torch.Size([128, 1, 28, 28]) torch.Size([128])\n",
            "torch.Size([128, 1, 28, 28]) torch.Size([128])\n",
            "torch.Size([128, 1, 28, 28]) torch.Size([128])\n",
            "torch.Size([128, 1, 28, 28]) torch.Size([128])\n",
            "torch.Size([128, 1, 28, 28]) torch.Size([128])\n",
            "torch.Size([128, 1, 28, 28]) torch.Size([128])\n",
            "torch.Size([128, 1, 28, 28]) torch.Size([128])\n",
            "torch.Size([128, 1, 28, 28]) torch.Size([128])\n",
            "torch.Size([128, 1, 28, 28]) torch.Size([128])\n",
            "torch.Size([128, 1, 28, 28]) torch.Size([128])\n",
            "torch.Size([128, 1, 28, 28]) torch.Size([128])\n",
            "torch.Size([128, 1, 28, 28]) torch.Size([128])\n",
            "torch.Size([128, 1, 28, 28]) torch.Size([128])\n",
            "torch.Size([128, 1, 28, 28]) torch.Size([128])\n",
            "torch.Size([128, 1, 28, 28]) torch.Size([128])\n",
            "torch.Size([128, 1, 28, 28]) torch.Size([128])\n",
            "torch.Size([128, 1, 28, 28]) torch.Size([128])\n",
            "torch.Size([128, 1, 28, 28]) torch.Size([128])\n",
            "torch.Size([128, 1, 28, 28]) torch.Size([128])\n",
            "torch.Size([128, 1, 28, 28]) torch.Size([128])\n",
            "torch.Size([128, 1, 28, 28]) torch.Size([128])\n",
            "torch.Size([128, 1, 28, 28]) torch.Size([128])\n",
            "torch.Size([128, 1, 28, 28]) torch.Size([128])\n",
            "torch.Size([128, 1, 28, 28]) torch.Size([128])\n",
            "torch.Size([128, 1, 28, 28]) torch.Size([128])\n",
            "torch.Size([128, 1, 28, 28]) torch.Size([128])\n",
            "torch.Size([128, 1, 28, 28]) torch.Size([128])\n",
            "torch.Size([128, 1, 28, 28]) torch.Size([128])\n",
            "torch.Size([128, 1, 28, 28]) torch.Size([128])\n",
            "torch.Size([128, 1, 28, 28]) torch.Size([128])\n",
            "torch.Size([128, 1, 28, 28]) torch.Size([128])\n",
            "torch.Size([128, 1, 28, 28]) torch.Size([128])\n",
            "torch.Size([128, 1, 28, 28]) torch.Size([128])\n",
            "torch.Size([128, 1, 28, 28]) torch.Size([128])\n",
            "torch.Size([128, 1, 28, 28]) torch.Size([128])\n",
            "torch.Size([128, 1, 28, 28]) torch.Size([128])\n",
            "torch.Size([128, 1, 28, 28]) torch.Size([128])\n",
            "torch.Size([128, 1, 28, 28]) torch.Size([128])\n",
            "torch.Size([128, 1, 28, 28]) torch.Size([128])\n",
            "torch.Size([128, 1, 28, 28]) torch.Size([128])\n",
            "torch.Size([128, 1, 28, 28]) torch.Size([128])\n",
            "torch.Size([128, 1, 28, 28]) torch.Size([128])\n",
            "torch.Size([128, 1, 28, 28]) torch.Size([128])\n",
            "torch.Size([128, 1, 28, 28]) torch.Size([128])\n",
            "torch.Size([128, 1, 28, 28]) torch.Size([128])\n",
            "torch.Size([128, 1, 28, 28]) torch.Size([128])\n",
            "torch.Size([128, 1, 28, 28]) torch.Size([128])\n",
            "torch.Size([128, 1, 28, 28]) torch.Size([128])\n",
            "torch.Size([128, 1, 28, 28]) torch.Size([128])\n",
            "torch.Size([128, 1, 28, 28]) torch.Size([128])\n",
            "torch.Size([128, 1, 28, 28]) torch.Size([128])\n",
            "torch.Size([128, 1, 28, 28]) torch.Size([128])\n",
            "torch.Size([128, 1, 28, 28]) torch.Size([128])\n",
            "torch.Size([128, 1, 28, 28]) torch.Size([128])\n",
            "torch.Size([128, 1, 28, 28]) torch.Size([128])\n",
            "torch.Size([128, 1, 28, 28]) torch.Size([128])\n",
            "torch.Size([128, 1, 28, 28]) torch.Size([128])\n",
            "torch.Size([128, 1, 28, 28]) torch.Size([128])\n",
            "torch.Size([128, 1, 28, 28]) torch.Size([128])\n",
            "torch.Size([128, 1, 28, 28]) torch.Size([128])\n",
            "torch.Size([128, 1, 28, 28]) torch.Size([128])\n",
            "torch.Size([128, 1, 28, 28]) torch.Size([128])\n",
            "torch.Size([128, 1, 28, 28]) torch.Size([128])\n",
            "torch.Size([128, 1, 28, 28]) torch.Size([128])\n",
            "torch.Size([128, 1, 28, 28]) torch.Size([128])\n",
            "torch.Size([128, 1, 28, 28]) torch.Size([128])\n",
            "torch.Size([128, 1, 28, 28]) torch.Size([128])\n",
            "torch.Size([128, 1, 28, 28]) torch.Size([128])\n",
            "torch.Size([128, 1, 28, 28]) torch.Size([128])\n",
            "torch.Size([128, 1, 28, 28]) torch.Size([128])\n",
            "torch.Size([128, 1, 28, 28]) torch.Size([128])\n",
            "torch.Size([128, 1, 28, 28]) torch.Size([128])\n",
            "torch.Size([128, 1, 28, 28]) torch.Size([128])\n",
            "torch.Size([128, 1, 28, 28]) torch.Size([128])\n",
            "torch.Size([128, 1, 28, 28]) torch.Size([128])\n",
            "torch.Size([128, 1, 28, 28]) torch.Size([128])\n",
            "torch.Size([128, 1, 28, 28]) torch.Size([128])\n",
            "torch.Size([128, 1, 28, 28]) torch.Size([128])\n",
            "torch.Size([128, 1, 28, 28]) torch.Size([128])\n",
            "torch.Size([128, 1, 28, 28]) torch.Size([128])\n",
            "torch.Size([128, 1, 28, 28]) torch.Size([128])\n",
            "torch.Size([128, 1, 28, 28]) torch.Size([128])\n",
            "torch.Size([128, 1, 28, 28]) torch.Size([128])\n",
            "torch.Size([128, 1, 28, 28]) torch.Size([128])\n",
            "torch.Size([128, 1, 28, 28]) torch.Size([128])\n",
            "torch.Size([128, 1, 28, 28]) torch.Size([128])\n",
            "torch.Size([128, 1, 28, 28]) torch.Size([128])\n",
            "torch.Size([128, 1, 28, 28]) torch.Size([128])\n",
            "torch.Size([128, 1, 28, 28]) torch.Size([128])\n",
            "torch.Size([128, 1, 28, 28]) torch.Size([128])\n",
            "torch.Size([128, 1, 28, 28]) torch.Size([128])\n",
            "torch.Size([128, 1, 28, 28]) torch.Size([128])\n",
            "torch.Size([128, 1, 28, 28]) torch.Size([128])\n",
            "torch.Size([128, 1, 28, 28]) torch.Size([128])\n",
            "torch.Size([128, 1, 28, 28]) torch.Size([128])\n",
            "torch.Size([128, 1, 28, 28]) torch.Size([128])\n",
            "torch.Size([128, 1, 28, 28]) torch.Size([128])\n",
            "torch.Size([128, 1, 28, 28]) torch.Size([128])\n",
            "torch.Size([128, 1, 28, 28]) torch.Size([128])\n",
            "torch.Size([128, 1, 28, 28]) torch.Size([128])\n",
            "torch.Size([128, 1, 28, 28]) torch.Size([128])\n",
            "torch.Size([128, 1, 28, 28]) torch.Size([128])\n",
            "torch.Size([128, 1, 28, 28]) torch.Size([128])\n",
            "torch.Size([128, 1, 28, 28]) torch.Size([128])\n",
            "torch.Size([128, 1, 28, 28]) torch.Size([128])\n",
            "torch.Size([128, 1, 28, 28]) torch.Size([128])\n",
            "torch.Size([128, 1, 28, 28]) torch.Size([128])\n",
            "torch.Size([128, 1, 28, 28]) torch.Size([128])\n",
            "torch.Size([128, 1, 28, 28]) torch.Size([128])\n",
            "torch.Size([128, 1, 28, 28]) torch.Size([128])\n",
            "torch.Size([128, 1, 28, 28]) torch.Size([128])\n",
            "torch.Size([128, 1, 28, 28]) torch.Size([128])\n",
            "torch.Size([128, 1, 28, 28]) torch.Size([128])\n",
            "torch.Size([128, 1, 28, 28]) torch.Size([128])\n",
            "torch.Size([128, 1, 28, 28]) torch.Size([128])\n",
            "torch.Size([128, 1, 28, 28]) torch.Size([128])\n",
            "torch.Size([128, 1, 28, 28]) torch.Size([128])\n",
            "torch.Size([128, 1, 28, 28]) torch.Size([128])\n",
            "torch.Size([128, 1, 28, 28]) torch.Size([128])\n",
            "torch.Size([128, 1, 28, 28]) torch.Size([128])\n",
            "torch.Size([128, 1, 28, 28]) torch.Size([128])\n",
            "torch.Size([128, 1, 28, 28]) torch.Size([128])\n",
            "torch.Size([128, 1, 28, 28]) torch.Size([128])\n",
            "torch.Size([128, 1, 28, 28]) torch.Size([128])\n",
            "torch.Size([128, 1, 28, 28]) torch.Size([128])\n",
            "torch.Size([128, 1, 28, 28]) torch.Size([128])\n",
            "torch.Size([128, 1, 28, 28]) torch.Size([128])\n",
            "torch.Size([128, 1, 28, 28]) torch.Size([128])\n",
            "torch.Size([128, 1, 28, 28]) torch.Size([128])\n",
            "torch.Size([128, 1, 28, 28]) torch.Size([128])\n",
            "torch.Size([128, 1, 28, 28]) torch.Size([128])\n",
            "torch.Size([128, 1, 28, 28]) torch.Size([128])\n",
            "torch.Size([128, 1, 28, 28]) torch.Size([128])\n",
            "torch.Size([128, 1, 28, 28]) torch.Size([128])\n",
            "torch.Size([128, 1, 28, 28]) torch.Size([128])\n",
            "torch.Size([128, 1, 28, 28]) torch.Size([128])\n",
            "torch.Size([128, 1, 28, 28]) torch.Size([128])\n",
            "torch.Size([128, 1, 28, 28]) torch.Size([128])\n",
            "torch.Size([128, 1, 28, 28]) torch.Size([128])\n",
            "torch.Size([128, 1, 28, 28]) torch.Size([128])\n",
            "torch.Size([128, 1, 28, 28]) torch.Size([128])\n",
            "torch.Size([128, 1, 28, 28]) torch.Size([128])\n",
            "torch.Size([128, 1, 28, 28]) torch.Size([128])\n",
            "torch.Size([128, 1, 28, 28]) torch.Size([128])\n",
            "torch.Size([128, 1, 28, 28]) torch.Size([128])\n",
            "torch.Size([128, 1, 28, 28]) torch.Size([128])\n",
            "torch.Size([128, 1, 28, 28]) torch.Size([128])\n",
            "torch.Size([128, 1, 28, 28]) torch.Size([128])\n",
            "torch.Size([128, 1, 28, 28]) torch.Size([128])\n",
            "torch.Size([128, 1, 28, 28]) torch.Size([128])\n",
            "torch.Size([128, 1, 28, 28]) torch.Size([128])\n",
            "torch.Size([128, 1, 28, 28]) torch.Size([128])\n",
            "torch.Size([128, 1, 28, 28]) torch.Size([128])\n",
            "torch.Size([128, 1, 28, 28]) torch.Size([128])\n",
            "torch.Size([128, 1, 28, 28]) torch.Size([128])\n",
            "torch.Size([128, 1, 28, 28]) torch.Size([128])\n",
            "torch.Size([128, 1, 28, 28]) torch.Size([128])\n",
            "torch.Size([128, 1, 28, 28]) torch.Size([128])\n",
            "torch.Size([128, 1, 28, 28]) torch.Size([128])\n",
            "torch.Size([128, 1, 28, 28]) torch.Size([128])\n",
            "torch.Size([128, 1, 28, 28]) torch.Size([128])\n",
            "torch.Size([112, 1, 28, 28]) torch.Size([112])\n",
            "torch.Size([128, 1, 28, 28]) torch.Size([128])\n"
          ]
        }
      ]
    },
    {
      "cell_type": "code",
      "source": [
        "class Net(nn.Module):\n",
        "    def __init__(self):\n",
        "        super(Net, self).__init__()\n",
        "        self.conv1 = nn.Conv2d(1, 32, 3)     # First convolutional layer with input channels=1, output channels=32, and kernel size=3x3\n",
        "        self.conv2 = nn.Conv2d(32, 64, 3)    # Second convolutional layer with input channels=32, output channels=64, and kernel size=3x3\n",
        "        self.pool = nn.MaxPool2d(2, 2)       # Max pooling layer with kernel size=2x2 and stride=2\n",
        "        self.fc1 = nn.Linear(64 * 12 * 12, 128)  # Fully connected layer with input size of 64x12x12 (output from previous layers) and output size of 128\n",
        "        self.fc2 = nn.Linear(128, 10)        # Fully connected layer with input size of 128 and output size of 10 (for 10 classes)\n",
        "\n",
        "    def forward(self, x):\n",
        "        x = F.relu(self.conv1(x))            # Apply ReLU activation to the output of the first convolutional layer\n",
        "        x = self.pool(F.relu(self.conv2(x))) # Apply ReLU activation to the output of the second convolutional layer, then perform max pooling\n",
        "        x = x.view(-1, 64 * 12 * 12)         # Flatten the tensor to a 1D vector\n",
        "        x = F.relu(self.fc1(x))              # Apply ReLU activation to the output of the first fully connected layer\n",
        "        x = self.fc2(x)                      # Output from the second fully connected layer (logits)\n",
        "        return x\n",
        "\n",
        "net = Net()                               # Create an instance of the neural network model\n",
        "net.to(device)                           # Move the model to the specified device (e.g., GPU or CPU)"
      ],
      "metadata": {
        "colab": {
          "base_uri": "https://localhost:8080/"
        },
        "id": "M-kc1UsvOCqP",
        "outputId": "4ce6e388-6a9e-46ab-9fac-1a0a5f3ac254"
      },
      "execution_count": 19,
      "outputs": [
        {
          "output_type": "execute_result",
          "data": {
            "text/plain": [
              "Net(\n",
              "  (conv1): Conv2d(1, 32, kernel_size=(3, 3), stride=(1, 1))\n",
              "  (conv2): Conv2d(32, 64, kernel_size=(3, 3), stride=(1, 1))\n",
              "  (pool): MaxPool2d(kernel_size=2, stride=2, padding=0, dilation=1, ceil_mode=False)\n",
              "  (fc1): Linear(in_features=9216, out_features=128, bias=True)\n",
              "  (fc2): Linear(in_features=128, out_features=10, bias=True)\n",
              ")"
            ]
          },
          "metadata": {},
          "execution_count": 19
        }
      ]
    },
    {
      "cell_type": "markdown",
      "source": [
        "## **Create Model**\n",
        "\n",
        "- Convolution layer (CONV)- The convolution layer (CONV) uses filters that perform convolution operations as it is scanning the input I with respect to its dimensions. Its hyperparameters include the filter size F and stride S. The resulting output O is called feature map.\n",
        "- Pooling (POOL)- The pooling layer (POOL) is a downsampling operation, typically applied after a convolution layer, which does some spatial invariance. In particular, max and average pooling are special kinds of pooling where the maximum and average value is taken, respectively.\n",
        "\n",
        "To create our CNN Model, we utilise the neural network module from pytorch and provide it with our own custom architecture as follows.\n",
        "\n",
        "- Convolutional layer with 32 channels\n",
        "- Convolutional layer with 64 channels\n",
        "- MaxPooling layer to compress information\n",
        "- Dense layer to flatten the information obtained\n",
        "- Dense output layer with relu activation\n",
        "\n",
        "We use Cross Entropy Loss as the loss function and Adam as the optimizer here. You can also try out other optimizers like SGD here"
      ],
      "metadata": {
        "id": "g6FDOv-pOXQH"
      }
    },
    {
      "cell_type": "code",
      "source": [
        "criterion = nn.CrossEntropyLoss()\n",
        "#optimizer = optim.SGD(net.parameters(), lr = 0.001, momentum = 0.9)\n",
        "optimizer = optim.Adam(net.parameters(), lr = 0.001)"
      ],
      "metadata": {
        "id": "wQmSc24BOy6m"
      },
      "execution_count": 20,
      "outputs": []
    },
    {
      "cell_type": "markdown",
      "source": [
        "Finally, inorder to deal with input data in the float format, we modify the format of our CNN model net to float."
      ],
      "metadata": {
        "id": "mPZADIixO1uS"
      }
    },
    {
      "cell_type": "code",
      "source": [
        "net = net.float()"
      ],
      "metadata": {
        "id": "JFbGDI7oO3eE"
      },
      "execution_count": 21,
      "outputs": []
    },
    {
      "cell_type": "markdown",
      "source": [
        "### **Train Model**\n",
        "\n",
        "Definitions:\n",
        "\n",
        "- Epoch- In the context of training a model, epoch is a term used to refer to one iteration where the model sees the whole training set to update its weights.\n",
        "- Mini batch gradient descent- During the training phase, updating weights is usually not based on the whole training set at once due to computation complexities or one data point due to noise issues. Instead, the update step is done on mini-batches, where the number of data points in a batch is a hyperparameter that we can tune.\n",
        "- Loss function -In order to quantify how a given model performs, the loss function .L is usually used to evaluate to what extent the actual outputs y are correctly predicted by the model outputs z.\n",
        "- Cross-entropy lossIn the context of binary classification in neural networks, the cross-entropy loss L(z,y) is commonly used and is defined as follows:\n",
        "\n",
        "We now train the model for 15 epochs and print its loss and test accuracy for each 50 completed mini batches. I used 15 epochs as it provided a satisfactory learning curve for this dataset, but feel free to explore with other number as well."
      ],
      "metadata": {
        "id": "tOE6IsW9O6Sy"
      }
    },
    {
      "cell_type": "code",
      "source": [
        "epoch_num = 0\n",
        "actual_loss = 0.0\n",
        "accuracy = 0.0"
      ],
      "metadata": {
        "id": "hufx9_2IPVy3"
      },
      "execution_count": 22,
      "outputs": []
    },
    {
      "cell_type": "code",
      "source": [
        "#training model with 25 epochs\n",
        "\n",
        "num_epochs = 25\n",
        "\n",
        "# Create lists to store epoch number, loss, and accuracy for each epoch\n",
        "epoch_log = []\n",
        "loss_log = []\n",
        "accuracy_log = []\n",
        "\n",
        "for epoch in range(num_epochs):\n",
        "    print(f'Starting Epoch: {epoch + 1}...')\n",
        "\n",
        "    running_loss = 0.0   # Initialize running loss to 0 for each epoch\n",
        "\n",
        "    for i, data in enumerate(train_loader, 0):\n",
        "        inputs, labels = data\n",
        "        inputs = inputs.to(device)    # Move inputs to the specified device (e.g., GPU or CPU)\n",
        "        labels = labels.to(device)    # Move labels to the specified device\n",
        "\n",
        "        optimizer.zero_grad()        # Zero the gradients of the optimizer\n",
        "\n",
        "        outputs = net(inputs.float())   # Forward pass to get predicted outputs from the model\n",
        "        loss = criterion(outputs,labels)  # Compute the loss between predicted outputs and ground truth labels\n",
        "        loss.backward()                 # Backward pass to compute gradients\n",
        "        optimizer.step()                # Update model weights using the optimizer\n",
        "\n",
        "        running_loss += loss.item()   # Add the current batch loss to the running loss for this epoch\n",
        "        if i % 50 == 49:\n",
        "            correct = 0\n",
        "            total = 0\n",
        "\n",
        "            with torch.no_grad():\n",
        "                for data in test_loader:\n",
        "                    images, labels = data\n",
        "                    images = images.to(device)    # Move images to the specified device\n",
        "                    labels = labels.to(device)    # Move labels to the specified device\n",
        "                    outputs = net(images.float())  # Forward pass to get predicted outputs from the model\n",
        "\n",
        "                    _, predicted = torch.max(outputs.data, dim = 1)   # Get predicted labels with maximum probability\n",
        "                    total += labels.size(0)   # Update total number of images\n",
        "                    correct += (predicted == labels).sum().item()   # Update correct predictions count\n",
        "\n",
        "                accuracy = 100 * correct / total   # Calculate accuracy for this epoch\n",
        "                actual_loss = running_loss / 50   # Calculate average loss for this epoch\n",
        "                epoch_num = epoch + 1   # Get current epoch number\n",
        "                print(f'Epoch: {epoch_num}, Mini-Batches Completed: {(i + 1)}, Loss: {actual_loss:.3f}, Test Accuracy: {accuracy:.3f}%')\n",
        "\n",
        "    epoch_log.append(epoch_num)   # Append epoch number to the epoch log\n",
        "    loss_log.append(actual_loss)   # Append average loss to the loss log\n",
        "    accuracy_log.append(accuracy)   # Append accuracy to the accuracy log\n",
        "\n",
        "print('Training Completed.')"
      ],
      "metadata": {
        "colab": {
          "base_uri": "https://localhost:8080/"
        },
        "id": "pPGXbRqOPqlw",
        "outputId": "5cc474d8-4825-4356-a47c-7e46b8e3e8f5"
      },
      "execution_count": 23,
      "outputs": [
        {
          "output_type": "stream",
          "name": "stdout",
          "text": [
            "Starting Epoch: 1...\n",
            "Epoch: 1, Mini-Batches Completed: 50, Loss: 0.637, Test Accuracy: 94.214%\n",
            "Epoch: 1, Mini-Batches Completed: 100, Loss: 0.816, Test Accuracy: 96.054%\n",
            "Epoch: 1, Mini-Batches Completed: 150, Loss: 0.966, Test Accuracy: 97.408%\n",
            "Starting Epoch: 2...\n",
            "Epoch: 2, Mini-Batches Completed: 50, Loss: 0.086, Test Accuracy: 98.110%\n",
            "Epoch: 2, Mini-Batches Completed: 100, Loss: 0.151, Test Accuracy: 98.462%\n",
            "Epoch: 2, Mini-Batches Completed: 150, Loss: 0.205, Test Accuracy: 98.378%\n",
            "Starting Epoch: 3...\n",
            "Epoch: 3, Mini-Batches Completed: 50, Loss: 0.043, Test Accuracy: 98.645%\n",
            "Epoch: 3, Mini-Batches Completed: 100, Loss: 0.084, Test Accuracy: 98.763%\n",
            "Epoch: 3, Mini-Batches Completed: 150, Loss: 0.117, Test Accuracy: 98.813%\n",
            "Starting Epoch: 4...\n",
            "Epoch: 4, Mini-Batches Completed: 50, Loss: 0.024, Test Accuracy: 98.913%\n",
            "Epoch: 4, Mini-Batches Completed: 100, Loss: 0.047, Test Accuracy: 99.114%\n",
            "Epoch: 4, Mini-Batches Completed: 150, Loss: 0.074, Test Accuracy: 98.980%\n",
            "Starting Epoch: 5...\n",
            "Epoch: 5, Mini-Batches Completed: 50, Loss: 0.015, Test Accuracy: 98.729%\n",
            "Epoch: 5, Mini-Batches Completed: 100, Loss: 0.036, Test Accuracy: 98.930%\n",
            "Epoch: 5, Mini-Batches Completed: 150, Loss: 0.055, Test Accuracy: 98.997%\n",
            "Starting Epoch: 6...\n",
            "Epoch: 6, Mini-Batches Completed: 50, Loss: 0.009, Test Accuracy: 99.181%\n",
            "Epoch: 6, Mini-Batches Completed: 100, Loss: 0.022, Test Accuracy: 99.247%\n",
            "Epoch: 6, Mini-Batches Completed: 150, Loss: 0.037, Test Accuracy: 99.030%\n",
            "Starting Epoch: 7...\n",
            "Epoch: 7, Mini-Batches Completed: 50, Loss: 0.008, Test Accuracy: 99.181%\n",
            "Epoch: 7, Mini-Batches Completed: 100, Loss: 0.018, Test Accuracy: 99.147%\n",
            "Epoch: 7, Mini-Batches Completed: 150, Loss: 0.025, Test Accuracy: 99.164%\n",
            "Starting Epoch: 8...\n",
            "Epoch: 8, Mini-Batches Completed: 50, Loss: 0.006, Test Accuracy: 99.181%\n",
            "Epoch: 8, Mini-Batches Completed: 100, Loss: 0.014, Test Accuracy: 99.181%\n",
            "Epoch: 8, Mini-Batches Completed: 150, Loss: 0.029, Test Accuracy: 99.080%\n",
            "Starting Epoch: 9...\n",
            "Epoch: 9, Mini-Batches Completed: 50, Loss: 0.008, Test Accuracy: 98.963%\n",
            "Epoch: 9, Mini-Batches Completed: 100, Loss: 0.016, Test Accuracy: 99.231%\n",
            "Epoch: 9, Mini-Batches Completed: 150, Loss: 0.022, Test Accuracy: 99.247%\n",
            "Starting Epoch: 10...\n",
            "Epoch: 10, Mini-Batches Completed: 50, Loss: 0.004, Test Accuracy: 99.214%\n",
            "Epoch: 10, Mini-Batches Completed: 100, Loss: 0.007, Test Accuracy: 99.247%\n",
            "Epoch: 10, Mini-Batches Completed: 150, Loss: 0.013, Test Accuracy: 98.980%\n",
            "Starting Epoch: 11...\n",
            "Epoch: 11, Mini-Batches Completed: 50, Loss: 0.002, Test Accuracy: 99.214%\n",
            "Epoch: 11, Mini-Batches Completed: 100, Loss: 0.008, Test Accuracy: 99.264%\n",
            "Epoch: 11, Mini-Batches Completed: 150, Loss: 0.011, Test Accuracy: 99.130%\n",
            "Starting Epoch: 12...\n",
            "Epoch: 12, Mini-Batches Completed: 50, Loss: 0.006, Test Accuracy: 99.114%\n",
            "Epoch: 12, Mini-Batches Completed: 100, Loss: 0.013, Test Accuracy: 98.997%\n",
            "Epoch: 12, Mini-Batches Completed: 150, Loss: 0.020, Test Accuracy: 99.080%\n",
            "Starting Epoch: 13...\n",
            "Epoch: 13, Mini-Batches Completed: 50, Loss: 0.003, Test Accuracy: 99.164%\n",
            "Epoch: 13, Mini-Batches Completed: 100, Loss: 0.007, Test Accuracy: 99.281%\n",
            "Epoch: 13, Mini-Batches Completed: 150, Loss: 0.010, Test Accuracy: 99.281%\n",
            "Starting Epoch: 14...\n",
            "Epoch: 14, Mini-Batches Completed: 50, Loss: 0.003, Test Accuracy: 99.114%\n",
            "Epoch: 14, Mini-Batches Completed: 100, Loss: 0.007, Test Accuracy: 99.264%\n",
            "Epoch: 14, Mini-Batches Completed: 150, Loss: 0.010, Test Accuracy: 99.231%\n",
            "Starting Epoch: 15...\n",
            "Epoch: 15, Mini-Batches Completed: 50, Loss: 0.001, Test Accuracy: 99.298%\n",
            "Epoch: 15, Mini-Batches Completed: 100, Loss: 0.004, Test Accuracy: 99.231%\n",
            "Epoch: 15, Mini-Batches Completed: 150, Loss: 0.006, Test Accuracy: 99.231%\n",
            "Starting Epoch: 16...\n",
            "Epoch: 16, Mini-Batches Completed: 50, Loss: 0.001, Test Accuracy: 99.298%\n",
            "Epoch: 16, Mini-Batches Completed: 100, Loss: 0.002, Test Accuracy: 99.264%\n",
            "Epoch: 16, Mini-Batches Completed: 150, Loss: 0.004, Test Accuracy: 99.080%\n",
            "Starting Epoch: 17...\n",
            "Epoch: 17, Mini-Batches Completed: 50, Loss: 0.004, Test Accuracy: 99.214%\n",
            "Epoch: 17, Mini-Batches Completed: 100, Loss: 0.008, Test Accuracy: 99.264%\n",
            "Epoch: 17, Mini-Batches Completed: 150, Loss: 0.016, Test Accuracy: 99.013%\n",
            "Starting Epoch: 18...\n",
            "Epoch: 18, Mini-Batches Completed: 50, Loss: 0.004, Test Accuracy: 99.164%\n",
            "Epoch: 18, Mini-Batches Completed: 100, Loss: 0.007, Test Accuracy: 99.064%\n",
            "Epoch: 18, Mini-Batches Completed: 150, Loss: 0.013, Test Accuracy: 98.997%\n",
            "Starting Epoch: 19...\n",
            "Epoch: 19, Mini-Batches Completed: 50, Loss: 0.011, Test Accuracy: 99.114%\n",
            "Epoch: 19, Mini-Batches Completed: 100, Loss: 0.016, Test Accuracy: 99.314%\n",
            "Epoch: 19, Mini-Batches Completed: 150, Loss: 0.019, Test Accuracy: 99.214%\n",
            "Starting Epoch: 20...\n",
            "Epoch: 20, Mini-Batches Completed: 50, Loss: 0.005, Test Accuracy: 99.264%\n",
            "Epoch: 20, Mini-Batches Completed: 100, Loss: 0.007, Test Accuracy: 99.331%\n",
            "Epoch: 20, Mini-Batches Completed: 150, Loss: 0.008, Test Accuracy: 99.331%\n",
            "Starting Epoch: 21...\n",
            "Epoch: 21, Mini-Batches Completed: 50, Loss: 0.001, Test Accuracy: 99.331%\n",
            "Epoch: 21, Mini-Batches Completed: 100, Loss: 0.001, Test Accuracy: 99.314%\n",
            "Epoch: 21, Mini-Batches Completed: 150, Loss: 0.004, Test Accuracy: 99.381%\n",
            "Starting Epoch: 22...\n",
            "Epoch: 22, Mini-Batches Completed: 50, Loss: 0.005, Test Accuracy: 99.247%\n",
            "Epoch: 22, Mini-Batches Completed: 100, Loss: 0.007, Test Accuracy: 99.147%\n",
            "Epoch: 22, Mini-Batches Completed: 150, Loss: 0.010, Test Accuracy: 99.197%\n",
            "Starting Epoch: 23...\n",
            "Epoch: 23, Mini-Batches Completed: 50, Loss: 0.001, Test Accuracy: 99.231%\n",
            "Epoch: 23, Mini-Batches Completed: 100, Loss: 0.003, Test Accuracy: 99.365%\n",
            "Epoch: 23, Mini-Batches Completed: 150, Loss: 0.004, Test Accuracy: 99.281%\n",
            "Starting Epoch: 24...\n",
            "Epoch: 24, Mini-Batches Completed: 50, Loss: 0.001, Test Accuracy: 99.197%\n",
            "Epoch: 24, Mini-Batches Completed: 100, Loss: 0.002, Test Accuracy: 99.264%\n",
            "Epoch: 24, Mini-Batches Completed: 150, Loss: 0.005, Test Accuracy: 99.181%\n",
            "Starting Epoch: 25...\n",
            "Epoch: 25, Mini-Batches Completed: 50, Loss: 0.000, Test Accuracy: 99.348%\n",
            "Epoch: 25, Mini-Batches Completed: 100, Loss: 0.002, Test Accuracy: 99.314%\n",
            "Epoch: 25, Mini-Batches Completed: 150, Loss: 0.003, Test Accuracy: 99.064%\n",
            "Training Completed.\n"
          ]
        }
      ]
    },
    {
      "cell_type": "markdown",
      "source": [
        "## **Saving Model**\n",
        "\n",
        "Let's save our trained model to PATH so that it can be reused."
      ],
      "metadata": {
        "id": "iZprH7UTblDk"
      }
    },
    {
      "cell_type": "code",
      "source": [
        "PATH = './cnn_net.pth'\n",
        "torch.save(net.state_dict(), PATH)"
      ],
      "metadata": {
        "id": "GMe_FnDwbZn0"
      },
      "execution_count": 24,
      "outputs": []
    },
    {
      "cell_type": "markdown",
      "source": [
        "## **Evaluating Model**\n",
        "\n",
        "Reloading Model To evaluate our trained CNN model, we reload our saved model."
      ],
      "metadata": {
        "id": "3CgBu1sTbtxg"
      }
    },
    {
      "cell_type": "code",
      "source": [
        "net = Net()\n",
        "net.to(device)\n",
        "net.load_state_dict(torch.load(PATH))"
      ],
      "metadata": {
        "colab": {
          "base_uri": "https://localhost:8080/"
        },
        "id": "AVKcgSeubzqx",
        "outputId": "82b2aee3-aae3-4f7f-f82d-37fb2ff7ec12"
      },
      "execution_count": 25,
      "outputs": [
        {
          "output_type": "execute_result",
          "data": {
            "text/plain": [
              "<All keys matched successfully>"
            ]
          },
          "metadata": {},
          "execution_count": 25
        }
      ]
    },
    {
      "cell_type": "markdown",
      "source": [
        "## **How well our model makes prediction with test data?**\n",
        "\n",
        "Now, let us use our test dataset to determine the final accuracy of our trained model."
      ],
      "metadata": {
        "id": "bJ_L2u68b3Yw"
      }
    },
    {
      "cell_type": "code",
      "source": [
        "correct = 0   # Initialize count of correct predictions to 0\n",
        "total = 0     # Initialize count of total predictions to 0\n",
        "\n",
        "with torch.no_grad():   # Disable gradient computation for efficiency\n",
        "    for data in test_loader:   # Loop through the test dataset\n",
        "        images, labels = data   # Get images and labels from the test dataset\n",
        "        images = images.to(device)   # Move images to the specified device (e.g., GPU or CPU)\n",
        "        labels = labels.to(device)   # Move labels to the specified device\n",
        "        outputs = net(images.float())   # Forward pass to get predicted outputs from the model\n",
        "        _, predicted = torch.max(outputs.data, 1)   # Get predicted labels with maximum probability\n",
        "        label_size = labels.size(0)   # Get the number of labels in the current batch\n",
        "        total += label_size   # Update total count of predictions\n",
        "        correct += (predicted == labels).sum().item()   # Update count of correct predictions by summing up correct predictions in the current batch\n",
        "\n",
        "accuracy = 100 * correct / total   # Calculate accuracy by dividing correct predictions by total predictions and multiplying by 100 to get percentage\n",
        "\n",
        "print(f'Accuracy of the network on test images: {accuracy:.3}%')"
      ],
      "metadata": {
        "colab": {
          "base_uri": "https://localhost:8080/"
        },
        "id": "CpINpuakcB2o",
        "outputId": "16257488-d71e-43af-8434-6969fd1e1fb8"
      },
      "execution_count": 26,
      "outputs": [
        {
          "output_type": "stream",
          "name": "stdout",
          "text": [
            "Accuracy of the network on test images: 99.3%\n"
          ]
        }
      ]
    },
    {
      "cell_type": "markdown",
      "source": [
        "As we observe, our model achieves an accuracy of 99.3% on the test images.\n",
        "\n"
      ],
      "metadata": {
        "id": "1EwXrl_LcHFH"
      }
    },
    {
      "cell_type": "markdown",
      "source": [
        "## **Classification Observations**\n",
        "\n",
        "Let us also view some of the classifications our model performs on the test data.\n",
        "\n",
        "\n"
      ],
      "metadata": {
        "id": "s-nwpCLWcJRn"
      }
    },
    {
      "cell_type": "code",
      "source": [
        "net.eval()   # Set the model to evaluation mode, which disables dropout and batch normalization\n",
        "\n",
        "num_images = 5   # Number of images to visualize\n",
        "\n",
        "with torch.no_grad():   # Disable gradient computation for efficiency\n",
        "    for data in test_loader:   # Loop through the test dataset\n",
        "        images, labels = data   # Get images and labels from the test dataset\n",
        "        images = images.to(device)   # Move images to the specified device (e.g., GPU or CPU)\n",
        "        labels = labels.to(device)   # Move labels to the specified device\n",
        "\n",
        "        outputs = net(images.float())   # Forward pass to get predicted outputs from the model\n",
        "        predictions = torch.argmax(outputs, dim=1)   # Get predicted labels with maximum probability\n",
        "\n",
        "        for i in range(data[0].shape[0]):   # Loop through the images in the current batch\n",
        "            pred = predictions[i].item()   # Get the predicted label for the current image\n",
        "            label = labels[i]   # Get the actual label for the current image\n",
        "            if(num_images > 0):   # Check if the number of images to visualize is greater than 0\n",
        "                print(f'Actual Label: {pred}, Predicted Label: {label}')   # Print the actual and predicted label for the current image\n",
        "                img = np.reshape(images[i].cpu().numpy(),[1,28,28])   # Convert the image tensor to a NumPy array and reshape it to [1, 28, 28] size\n",
        "                visualize_image(img)   # Visualize the image using a custom function (e.g., visualize_image)\n",
        "                num_images -= 1   # Decrement the number of images to visualize by 1\n"
      ],
      "metadata": {
        "colab": {
          "base_uri": "https://localhost:8080/",
          "height": 1000
        },
        "id": "j3lc_0QXcTNL",
        "outputId": "43c0fcb2-ea44-4002-b240-c76130b9a29a"
      },
      "execution_count": 27,
      "outputs": [
        {
          "output_type": "stream",
          "name": "stdout",
          "text": [
            "Actual Label: 8, Predicted Label: 8\n"
          ]
        },
        {
          "output_type": "display_data",
          "data": {
            "text/plain": [
              "<Figure size 640x480 with 1 Axes>"
            ],
            "image/png": "[encoded data removed]"
          },
          "metadata": {}
        },
        {
          "output_type": "stream",
          "name": "stdout",
          "text": [
            "Actual Label: 8, Predicted Label: 8\n"
          ]
        },
        {
          "output_type": "display_data",
          "data": {
            "text/plain": [
              "<Figure size 640x480 with 1 Axes>"
            ],
            "image/png": "[encoded data removed]"
          },
          "metadata": {}
        },
        {
          "output_type": "stream",
          "name": "stdout",
          "text": [
            "Actual Label: 6, Predicted Label: 6\n"
          ]
        },
        {
          "output_type": "display_data",
          "data": {
            "text/plain": [
              "<Figure size 640x480 with 1 Axes>"
            ],
            "image/png": "[encoded data removed]"
          },
          "metadata": {}
        },
        {
          "output_type": "stream",
          "name": "stdout",
          "text": [
            "Actual Label: 2, Predicted Label: 2\n"
          ]
        },
        {
          "output_type": "display_data",
          "data": {
            "text/plain": [
              "<Figure size 640x480 with 1 Axes>"
            ],
            "image/png": "[encoded data removed]"
          },
          "metadata": {}
        },
        {
          "output_type": "stream",
          "name": "stdout",
          "text": [
            "Actual Label: 0, Predicted Label: 0\n"
          ]
        },
        {
          "output_type": "display_data",
          "data": {
            "text/plain": [
              "<Figure size 640x480 with 1 Axes>"
            ],
            "image/png": "[encoded data removed]"
          },
          "metadata": {}
        }
      ]
    },
    {
      "cell_type": "markdown",
      "source": [
        "## **Plotting training logs**\n",
        "\n",
        "To further understand and analyse the training of our model, let us plot the training logs for loss and accuracy.\n",
        "\n"
      ],
      "metadata": {
        "id": "Ru0VbC6_cb_7"
      }
    },
    {
      "cell_type": "code",
      "source": [
        "fig, ax1 = plt.subplots()   # Create a figure with a single subplot and return the figure object and axes object\n",
        "\n",
        "plt.title(\"Accuracy & Loss vs Epoch\")   # Set the title of the plot\n",
        "\n",
        "ax2 = ax1.twinx()   # Create a twin y-axis on the right side of the plot\n",
        "\n",
        "ax1.plot(epoch_log, loss_log, 'g-')   # Plot the epoch vs loss with green color\n",
        "ax2.plot(epoch_log, accuracy_log, 'b-')   # Plot the epoch vs test accuracy with blue color on the twin y-axis\n",
        "\n",
        "ax1.set_xlabel('Epochs')   # Set the x-axis label to 'Epochs'\n",
        "ax1.set_ylabel('Loss', color='g')   # Set the left y-axis label to 'Loss' with green color\n",
        "ax2.set_ylabel('Test Accuracy', color='b')   # Set the right y-axis label to 'Test Accuracy' with blue color\n",
        "\n",
        "plt.show()   # Display the plot\n"
      ],
      "metadata": {
        "colab": {
          "base_uri": "https://localhost:8080/",
          "height": 472
        },
        "id": "zGXvtdhjci2U",
        "outputId": "f401f987-d35d-4e29-aa3a-3c53af9b0b27"
      },
      "execution_count": 28,
      "outputs": [
        {
          "output_type": "display_data",
          "data": {
            "text/plain": [
              "<Figure size 640x480 with 2 Axes>"
            ],
            "image/png": "[encoded data removed]"
          },
          "metadata": {}
        }
      ]
    },
    {
      "cell_type": "markdown",
      "source": [
        "Observations: As the Number of Epochs increases i.e number of times you run the dataset through model, test accuracy increases and loss decreases"
      ],
      "metadata": {
        "id": "mbZvRxdjcnCu"
      }
    },
    {
      "cell_type": "markdown",
      "source": [
        "## **Plotting Confusion Matrix**\n",
        "\n",
        "Lastly, let us plot the confusion matrix to evaluate the classwise performance of our model and understand where it can do better."
      ],
      "metadata": {
        "id": "bzzyILaMcphE"
      }
    },
    {
      "cell_type": "code",
      "source": [
        "from sklearn.metrics import confusion_matrix\n",
        "from sklearn.metrics import classification_report\n",
        "import seaborn as sns"
      ],
      "metadata": {
        "id": "IGMdLra3cuIp"
      },
      "execution_count": 29,
      "outputs": []
    },
    {
      "cell_type": "code",
      "source": [
        "pred_list = torch.zeros(0, dtype=torch.long, device='cpu')   # Create an empty tensor to store predicted labels with dtype long and device CPU\n",
        "label_list = torch.zeros(0, dtype=torch.long, device='cpu')   # Create an empty tensor to store actual labels with dtype long and device CPU\n",
        "\n",
        "with torch.no_grad():   # Turn off gradient computation during inference\n",
        "    for i, (inputs, classes) in enumerate(test_loader):   # Iterate over the test data loader\n",
        "        inputs = inputs.to(device)   # Move inputs to the specified device (e.g., CPU or GPU)\n",
        "        classes = classes.to(device)   # Move actual labels to the specified device\n",
        "        outputs = net(inputs.float())   # Pass inputs through the network to get predicted outputs\n",
        "        _, preds = torch.max(outputs, 1)   # Get the predicted labels by finding the indices of maximum values along the second dimension (class probabilities)\n",
        "\n",
        "        pred_list = torch.cat([pred_list, preds.view(-1).cpu()])   # Concatenate predicted labels to the pred_list tensor, reshaping to 1D and moving to CPU\n",
        "        label_list = torch.cat([label_list, classes.view(-1).cpu()])   # Concatenate actual labels to the label_list tensor, reshaping to 1D and moving to CPU"
      ],
      "metadata": {
        "id": "5CGb-xxXcxWE"
      },
      "execution_count": 30,
      "outputs": []
    },
    {
      "cell_type": "markdown",
      "source": [
        "Further, let us visualise this confusion matrix."
      ],
      "metadata": {
        "id": "zuGG87UVc1Fn"
      }
    },
    {
      "cell_type": "code",
      "source": [
        "conf_mat = confusion_matrix(label_list.numpy(), pred_list.numpy())   # Compute the confusion matrix using predicted and actual labels converted to NumPy arrays\n",
        "class_names = (0, 1, 2, 3, 4, 5, 6, 7, 8, 9)   # Define the class names as a tuple of integers from 0 to 9\n",
        "dataframe = pd.DataFrame(conf_mat, index=class_names, columns=class_names)   # Create a DataFrame from the confusion matrix, with class names as row and column indices"
      ],
      "metadata": {
        "id": "0hTm9mOec399"
      },
      "execution_count": 31,
      "outputs": []
    },
    {
      "cell_type": "code",
      "source": [
        "#plotting confusion matrix\n",
        "plt.figure(figsize=(8, 6))\n",
        "sns.heatmap(dataframe, annot=True, cbar=None,cmap=\"spring\",fmt=\"d\")\n",
        "\n",
        "plt.title(\"Confusion Matrix\"), plt.tight_layout()\n",
        "\n",
        "plt.ylabel(\"True Class\"),\n",
        "plt.xlabel(\"Predicted Class\")\n",
        "plt.show()"
      ],
      "metadata": {
        "colab": {
          "base_uri": "https://localhost:8080/",
          "height": 626
        },
        "id": "ZpkGmXr9c6GB",
        "outputId": "5c23f5fb-0987-4190-bde5-82caac8c9438"
      },
      "execution_count": 35,
      "outputs": [
        {
          "output_type": "display_data",
          "data": {
            "text/plain": [
              "<Figure size 800x600 with 1 Axes>"
            ],
            "image/png": "[encoded data removed]"
          },
          "metadata": {}
        }
      ]
    },
    {
      "cell_type": "markdown",
      "source": [
        "### **Observations:**\n",
        "He we infer that , 587 times the label was 0 and our model predicted it as 0.Similarly 564 times label was 1 and and model predicted 1. Highest value is 4 , which means four times the label was 8 (True class) and our model predicted it 3, which is considered as error."
      ],
      "metadata": {
        "id": "bxah3IxBc9tM"
      }
    },
    {
      "cell_type": "markdown",
      "source": [
        "## **Conclusion**\n",
        "\n",
        "- The accuracy on test test is 99.1% which is really good for CNN\n",
        "CNNs, or Convolutional Neural Networks, are specialized neural networks for processing data with a known grid-like topology, such as images or time-series data.\n",
        "- CNNs consist of convolutional layers, pooling layers, and fully connected layers, and are commonly used in computer vision and other areas of deep learning.\n",
        "- Convolutional layers perform convolution on the input data to extract local patterns or features.\n",
        "- Pooling layers downsample the spatial dimensions of the data while preserving important features.\n",
        "- Activation functions, such as ReLU, sigmoid, and tanh, introduce non-linearity into the network.\n",
        "- We have successfully created a CNN model using Pytorch."
      ],
      "metadata": {
        "id": "qqtb1OHedCfX"
      }
    },
    {
      "cell_type": "markdown",
      "source": [
        "## **References**\n",
        "- https://towardsdatascience.com/convolutional-neural-networks-explained-9cc5188c4939\n",
        "- https://www.researchgate.net/figure/A-Convolutional-neural-network-sequence-to-classify-handwritten-digits_fig5_364953720\n",
        "- https://www.youtube.com/watch?v=9cPMFTwBdM4&ab_channel=Ductileasy\n",
        "- https://www.youtube.com/watch?v=YRhxdVk_sIs&ab_channel=deeplizard\n",
        "- https://stanford.edu/~shervine/blog/pytorch-how-to-generate-data-parallel"
      ],
      "metadata": {
        "id": "ND5gmmBldhdV"
      }
    },
    {
      "cell_type": "markdown",
      "source": [
        "### **Licensing**\n",
        "\n",
        "Copyright 2023 Payal Sanjay Nagaonkar\n",
        "\n",
        "Permission is hereby granted, free of charge, to any person obtaining a copy of this software and associated documentation files (the \"Software\"), to deal in the Software without restriction, including without limitation the rights to use, copy, modify, merge, publish, distribute, sublicense, and/or sell copies of the Software, and to permit persons to whom the Software is furnished to do so, subject to the following conditions:\n",
        "\n",
        "The above copyright notice and this permission notice shall be included in all copies or substantial portions of the Software.\n",
        "\n",
        "THE SOFTWARE IS PROVIDED \"AS IS\", WITHOUT WARRANTY OF ANY KIND, EXPRESS OR IMPLIED, INCLUDING BUT NOT LIMITED TO THE WARRANTIES OF MERCHANTABILITY, FITNESS FOR A PARTICULAR PURPOSE AND NONINFRINGEMENT. IN NO EVENT SHALL THE AUTHORS OR COPYRIGHT HOLDERS BE LIABLE FOR ANY CLAIM, DAMAGES OR OTHER LIABILITY, WHETHER IN AN ACTION OF CONTRACT, TORT OR OTHERWISE, ARISING FROM, OUT OF OR IN CONNECTION WITH THE SOFTWARE OR THE USE OR OTHER DEALINGS IN THE SOFTWARE."
      ],
      "metadata": {
        "id": "8RvtQiBWdqKO"
      }
    }
  ]
}